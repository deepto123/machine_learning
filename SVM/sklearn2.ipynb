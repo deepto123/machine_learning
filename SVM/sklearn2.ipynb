{
  "nbformat": 4,
  "nbformat_minor": 0,
  "metadata": {
    "colab": {
      "name": "sklearn2.ipynb",
      "provenance": [],
      "collapsed_sections": [],
      "authorship_tag": "ABX9TyOlALMCcn+Hciltymws8TaY",
      "include_colab_link": true
    },
    "kernelspec": {
      "name": "python3",
      "display_name": "Python 3"
    },
    "language_info": {
      "name": "python"
    }
  },
  "cells": [
    {
      "cell_type": "markdown",
      "metadata": {
        "id": "view-in-github",
        "colab_type": "text"
      },
      "source": [
        "<a href=\"https://colab.research.google.com/github/deepto123/machine_learning/blob/main/SVM/sklearn2.ipynb\" target=\"_parent\"><img src=\"https://colab.research.google.com/assets/colab-badge.svg\" alt=\"Open In Colab\"/></a>"
      ]
    },
    {
      "cell_type": "code",
      "execution_count": 3,
      "metadata": {
        "id": "10euxy8PYGC3"
      },
      "outputs": [],
      "source": [
        "import numpy as np\n",
        "import pandas as pd\n",
        "import matplotlib.pyplot as plt\n",
        "from sklearn import datasets\n",
        "from sklearn import svm\n",
        "from sklearn.model_selection import train_test_split\n",
        "from sklearn import svm\n",
        "from mlxtend.plotting import plot_decision_regions"
      ]
    },
    {
      "cell_type": "code",
      "source": [
        "iris = datasets.load_iris()"
      ],
      "metadata": {
        "id": "Ox_F_nbGYrWS"
      },
      "execution_count": 4,
      "outputs": []
    },
    {
      "cell_type": "code",
      "source": [
        "iris_df=pd.DataFrame(iris.data,columns=iris.feature_names)\n",
        "print(iris_df.to_markdown())"
      ],
      "metadata": {
        "colab": {
          "base_uri": "https://localhost:8080/"
        },
        "id": "uyGV__exY9Fn",
        "outputId": "9724b5b0-45ca-4c84-b988-0fb340b5f4ca"
      },
      "execution_count": 5,
      "outputs": [
        {
          "output_type": "stream",
          "name": "stdout",
          "text": [
            "|     |   sepal length (cm) |   sepal width (cm) |   petal length (cm) |   petal width (cm) |\n",
            "|----:|--------------------:|-------------------:|--------------------:|-------------------:|\n",
            "|   0 |                 5.1 |                3.5 |                 1.4 |                0.2 |\n",
            "|   1 |                 4.9 |                3   |                 1.4 |                0.2 |\n",
            "|   2 |                 4.7 |                3.2 |                 1.3 |                0.2 |\n",
            "|   3 |                 4.6 |                3.1 |                 1.5 |                0.2 |\n",
            "|   4 |                 5   |                3.6 |                 1.4 |                0.2 |\n",
            "|   5 |                 5.4 |                3.9 |                 1.7 |                0.4 |\n",
            "|   6 |                 4.6 |                3.4 |                 1.4 |                0.3 |\n",
            "|   7 |                 5   |                3.4 |                 1.5 |                0.2 |\n",
            "|   8 |                 4.4 |                2.9 |                 1.4 |                0.2 |\n",
            "|   9 |                 4.9 |                3.1 |                 1.5 |                0.1 |\n",
            "|  10 |                 5.4 |                3.7 |                 1.5 |                0.2 |\n",
            "|  11 |                 4.8 |                3.4 |                 1.6 |                0.2 |\n",
            "|  12 |                 4.8 |                3   |                 1.4 |                0.1 |\n",
            "|  13 |                 4.3 |                3   |                 1.1 |                0.1 |\n",
            "|  14 |                 5.8 |                4   |                 1.2 |                0.2 |\n",
            "|  15 |                 5.7 |                4.4 |                 1.5 |                0.4 |\n",
            "|  16 |                 5.4 |                3.9 |                 1.3 |                0.4 |\n",
            "|  17 |                 5.1 |                3.5 |                 1.4 |                0.3 |\n",
            "|  18 |                 5.7 |                3.8 |                 1.7 |                0.3 |\n",
            "|  19 |                 5.1 |                3.8 |                 1.5 |                0.3 |\n",
            "|  20 |                 5.4 |                3.4 |                 1.7 |                0.2 |\n",
            "|  21 |                 5.1 |                3.7 |                 1.5 |                0.4 |\n",
            "|  22 |                 4.6 |                3.6 |                 1   |                0.2 |\n",
            "|  23 |                 5.1 |                3.3 |                 1.7 |                0.5 |\n",
            "|  24 |                 4.8 |                3.4 |                 1.9 |                0.2 |\n",
            "|  25 |                 5   |                3   |                 1.6 |                0.2 |\n",
            "|  26 |                 5   |                3.4 |                 1.6 |                0.4 |\n",
            "|  27 |                 5.2 |                3.5 |                 1.5 |                0.2 |\n",
            "|  28 |                 5.2 |                3.4 |                 1.4 |                0.2 |\n",
            "|  29 |                 4.7 |                3.2 |                 1.6 |                0.2 |\n",
            "|  30 |                 4.8 |                3.1 |                 1.6 |                0.2 |\n",
            "|  31 |                 5.4 |                3.4 |                 1.5 |                0.4 |\n",
            "|  32 |                 5.2 |                4.1 |                 1.5 |                0.1 |\n",
            "|  33 |                 5.5 |                4.2 |                 1.4 |                0.2 |\n",
            "|  34 |                 4.9 |                3.1 |                 1.5 |                0.2 |\n",
            "|  35 |                 5   |                3.2 |                 1.2 |                0.2 |\n",
            "|  36 |                 5.5 |                3.5 |                 1.3 |                0.2 |\n",
            "|  37 |                 4.9 |                3.6 |                 1.4 |                0.1 |\n",
            "|  38 |                 4.4 |                3   |                 1.3 |                0.2 |\n",
            "|  39 |                 5.1 |                3.4 |                 1.5 |                0.2 |\n",
            "|  40 |                 5   |                3.5 |                 1.3 |                0.3 |\n",
            "|  41 |                 4.5 |                2.3 |                 1.3 |                0.3 |\n",
            "|  42 |                 4.4 |                3.2 |                 1.3 |                0.2 |\n",
            "|  43 |                 5   |                3.5 |                 1.6 |                0.6 |\n",
            "|  44 |                 5.1 |                3.8 |                 1.9 |                0.4 |\n",
            "|  45 |                 4.8 |                3   |                 1.4 |                0.3 |\n",
            "|  46 |                 5.1 |                3.8 |                 1.6 |                0.2 |\n",
            "|  47 |                 4.6 |                3.2 |                 1.4 |                0.2 |\n",
            "|  48 |                 5.3 |                3.7 |                 1.5 |                0.2 |\n",
            "|  49 |                 5   |                3.3 |                 1.4 |                0.2 |\n",
            "|  50 |                 7   |                3.2 |                 4.7 |                1.4 |\n",
            "|  51 |                 6.4 |                3.2 |                 4.5 |                1.5 |\n",
            "|  52 |                 6.9 |                3.1 |                 4.9 |                1.5 |\n",
            "|  53 |                 5.5 |                2.3 |                 4   |                1.3 |\n",
            "|  54 |                 6.5 |                2.8 |                 4.6 |                1.5 |\n",
            "|  55 |                 5.7 |                2.8 |                 4.5 |                1.3 |\n",
            "|  56 |                 6.3 |                3.3 |                 4.7 |                1.6 |\n",
            "|  57 |                 4.9 |                2.4 |                 3.3 |                1   |\n",
            "|  58 |                 6.6 |                2.9 |                 4.6 |                1.3 |\n",
            "|  59 |                 5.2 |                2.7 |                 3.9 |                1.4 |\n",
            "|  60 |                 5   |                2   |                 3.5 |                1   |\n",
            "|  61 |                 5.9 |                3   |                 4.2 |                1.5 |\n",
            "|  62 |                 6   |                2.2 |                 4   |                1   |\n",
            "|  63 |                 6.1 |                2.9 |                 4.7 |                1.4 |\n",
            "|  64 |                 5.6 |                2.9 |                 3.6 |                1.3 |\n",
            "|  65 |                 6.7 |                3.1 |                 4.4 |                1.4 |\n",
            "|  66 |                 5.6 |                3   |                 4.5 |                1.5 |\n",
            "|  67 |                 5.8 |                2.7 |                 4.1 |                1   |\n",
            "|  68 |                 6.2 |                2.2 |                 4.5 |                1.5 |\n",
            "|  69 |                 5.6 |                2.5 |                 3.9 |                1.1 |\n",
            "|  70 |                 5.9 |                3.2 |                 4.8 |                1.8 |\n",
            "|  71 |                 6.1 |                2.8 |                 4   |                1.3 |\n",
            "|  72 |                 6.3 |                2.5 |                 4.9 |                1.5 |\n",
            "|  73 |                 6.1 |                2.8 |                 4.7 |                1.2 |\n",
            "|  74 |                 6.4 |                2.9 |                 4.3 |                1.3 |\n",
            "|  75 |                 6.6 |                3   |                 4.4 |                1.4 |\n",
            "|  76 |                 6.8 |                2.8 |                 4.8 |                1.4 |\n",
            "|  77 |                 6.7 |                3   |                 5   |                1.7 |\n",
            "|  78 |                 6   |                2.9 |                 4.5 |                1.5 |\n",
            "|  79 |                 5.7 |                2.6 |                 3.5 |                1   |\n",
            "|  80 |                 5.5 |                2.4 |                 3.8 |                1.1 |\n",
            "|  81 |                 5.5 |                2.4 |                 3.7 |                1   |\n",
            "|  82 |                 5.8 |                2.7 |                 3.9 |                1.2 |\n",
            "|  83 |                 6   |                2.7 |                 5.1 |                1.6 |\n",
            "|  84 |                 5.4 |                3   |                 4.5 |                1.5 |\n",
            "|  85 |                 6   |                3.4 |                 4.5 |                1.6 |\n",
            "|  86 |                 6.7 |                3.1 |                 4.7 |                1.5 |\n",
            "|  87 |                 6.3 |                2.3 |                 4.4 |                1.3 |\n",
            "|  88 |                 5.6 |                3   |                 4.1 |                1.3 |\n",
            "|  89 |                 5.5 |                2.5 |                 4   |                1.3 |\n",
            "|  90 |                 5.5 |                2.6 |                 4.4 |                1.2 |\n",
            "|  91 |                 6.1 |                3   |                 4.6 |                1.4 |\n",
            "|  92 |                 5.8 |                2.6 |                 4   |                1.2 |\n",
            "|  93 |                 5   |                2.3 |                 3.3 |                1   |\n",
            "|  94 |                 5.6 |                2.7 |                 4.2 |                1.3 |\n",
            "|  95 |                 5.7 |                3   |                 4.2 |                1.2 |\n",
            "|  96 |                 5.7 |                2.9 |                 4.2 |                1.3 |\n",
            "|  97 |                 6.2 |                2.9 |                 4.3 |                1.3 |\n",
            "|  98 |                 5.1 |                2.5 |                 3   |                1.1 |\n",
            "|  99 |                 5.7 |                2.8 |                 4.1 |                1.3 |\n",
            "| 100 |                 6.3 |                3.3 |                 6   |                2.5 |\n",
            "| 101 |                 5.8 |                2.7 |                 5.1 |                1.9 |\n",
            "| 102 |                 7.1 |                3   |                 5.9 |                2.1 |\n",
            "| 103 |                 6.3 |                2.9 |                 5.6 |                1.8 |\n",
            "| 104 |                 6.5 |                3   |                 5.8 |                2.2 |\n",
            "| 105 |                 7.6 |                3   |                 6.6 |                2.1 |\n",
            "| 106 |                 4.9 |                2.5 |                 4.5 |                1.7 |\n",
            "| 107 |                 7.3 |                2.9 |                 6.3 |                1.8 |\n",
            "| 108 |                 6.7 |                2.5 |                 5.8 |                1.8 |\n",
            "| 109 |                 7.2 |                3.6 |                 6.1 |                2.5 |\n",
            "| 110 |                 6.5 |                3.2 |                 5.1 |                2   |\n",
            "| 111 |                 6.4 |                2.7 |                 5.3 |                1.9 |\n",
            "| 112 |                 6.8 |                3   |                 5.5 |                2.1 |\n",
            "| 113 |                 5.7 |                2.5 |                 5   |                2   |\n",
            "| 114 |                 5.8 |                2.8 |                 5.1 |                2.4 |\n",
            "| 115 |                 6.4 |                3.2 |                 5.3 |                2.3 |\n",
            "| 116 |                 6.5 |                3   |                 5.5 |                1.8 |\n",
            "| 117 |                 7.7 |                3.8 |                 6.7 |                2.2 |\n",
            "| 118 |                 7.7 |                2.6 |                 6.9 |                2.3 |\n",
            "| 119 |                 6   |                2.2 |                 5   |                1.5 |\n",
            "| 120 |                 6.9 |                3.2 |                 5.7 |                2.3 |\n",
            "| 121 |                 5.6 |                2.8 |                 4.9 |                2   |\n",
            "| 122 |                 7.7 |                2.8 |                 6.7 |                2   |\n",
            "| 123 |                 6.3 |                2.7 |                 4.9 |                1.8 |\n",
            "| 124 |                 6.7 |                3.3 |                 5.7 |                2.1 |\n",
            "| 125 |                 7.2 |                3.2 |                 6   |                1.8 |\n",
            "| 126 |                 6.2 |                2.8 |                 4.8 |                1.8 |\n",
            "| 127 |                 6.1 |                3   |                 4.9 |                1.8 |\n",
            "| 128 |                 6.4 |                2.8 |                 5.6 |                2.1 |\n",
            "| 129 |                 7.2 |                3   |                 5.8 |                1.6 |\n",
            "| 130 |                 7.4 |                2.8 |                 6.1 |                1.9 |\n",
            "| 131 |                 7.9 |                3.8 |                 6.4 |                2   |\n",
            "| 132 |                 6.4 |                2.8 |                 5.6 |                2.2 |\n",
            "| 133 |                 6.3 |                2.8 |                 5.1 |                1.5 |\n",
            "| 134 |                 6.1 |                2.6 |                 5.6 |                1.4 |\n",
            "| 135 |                 7.7 |                3   |                 6.1 |                2.3 |\n",
            "| 136 |                 6.3 |                3.4 |                 5.6 |                2.4 |\n",
            "| 137 |                 6.4 |                3.1 |                 5.5 |                1.8 |\n",
            "| 138 |                 6   |                3   |                 4.8 |                1.8 |\n",
            "| 139 |                 6.9 |                3.1 |                 5.4 |                2.1 |\n",
            "| 140 |                 6.7 |                3.1 |                 5.6 |                2.4 |\n",
            "| 141 |                 6.9 |                3.1 |                 5.1 |                2.3 |\n",
            "| 142 |                 5.8 |                2.7 |                 5.1 |                1.9 |\n",
            "| 143 |                 6.8 |                3.2 |                 5.9 |                2.3 |\n",
            "| 144 |                 6.7 |                3.3 |                 5.7 |                2.5 |\n",
            "| 145 |                 6.7 |                3   |                 5.2 |                2.3 |\n",
            "| 146 |                 6.3 |                2.5 |                 5   |                1.9 |\n",
            "| 147 |                 6.5 |                3   |                 5.2 |                2   |\n",
            "| 148 |                 6.2 |                3.4 |                 5.4 |                2.3 |\n",
            "| 149 |                 5.9 |                3   |                 5.1 |                1.8 |\n"
          ]
        }
      ]
    },
    {
      "cell_type": "code",
      "source": [
        "iris_df.head()"
      ],
      "metadata": {
        "colab": {
          "base_uri": "https://localhost:8080/",
          "height": 206
        },
        "id": "06gCSEzwZI_K",
        "outputId": "efd07be5-1d46-435a-ca32-6ec068eb8c09"
      },
      "execution_count": 6,
      "outputs": [
        {
          "output_type": "execute_result",
          "data": {
            "text/plain": [
              "   sepal length (cm)  sepal width (cm)  petal length (cm)  petal width (cm)\n",
              "0                5.1               3.5                1.4               0.2\n",
              "1                4.9               3.0                1.4               0.2\n",
              "2                4.7               3.2                1.3               0.2\n",
              "3                4.6               3.1                1.5               0.2\n",
              "4                5.0               3.6                1.4               0.2"
            ],
            "text/html": [
              "\n",
              "  <div id=\"df-503a0011-5677-4fcd-a6bb-22bc00a37583\">\n",
              "    <div class=\"colab-df-container\">\n",
              "      <div>\n",
              "<style scoped>\n",
              "    .dataframe tbody tr th:only-of-type {\n",
              "        vertical-align: middle;\n",
              "    }\n",
              "\n",
              "    .dataframe tbody tr th {\n",
              "        vertical-align: top;\n",
              "    }\n",
              "\n",
              "    .dataframe thead th {\n",
              "        text-align: right;\n",
              "    }\n",
              "</style>\n",
              "<table border=\"1\" class=\"dataframe\">\n",
              "  <thead>\n",
              "    <tr style=\"text-align: right;\">\n",
              "      <th></th>\n",
              "      <th>sepal length (cm)</th>\n",
              "      <th>sepal width (cm)</th>\n",
              "      <th>petal length (cm)</th>\n",
              "      <th>petal width (cm)</th>\n",
              "    </tr>\n",
              "  </thead>\n",
              "  <tbody>\n",
              "    <tr>\n",
              "      <th>0</th>\n",
              "      <td>5.1</td>\n",
              "      <td>3.5</td>\n",
              "      <td>1.4</td>\n",
              "      <td>0.2</td>\n",
              "    </tr>\n",
              "    <tr>\n",
              "      <th>1</th>\n",
              "      <td>4.9</td>\n",
              "      <td>3.0</td>\n",
              "      <td>1.4</td>\n",
              "      <td>0.2</td>\n",
              "    </tr>\n",
              "    <tr>\n",
              "      <th>2</th>\n",
              "      <td>4.7</td>\n",
              "      <td>3.2</td>\n",
              "      <td>1.3</td>\n",
              "      <td>0.2</td>\n",
              "    </tr>\n",
              "    <tr>\n",
              "      <th>3</th>\n",
              "      <td>4.6</td>\n",
              "      <td>3.1</td>\n",
              "      <td>1.5</td>\n",
              "      <td>0.2</td>\n",
              "    </tr>\n",
              "    <tr>\n",
              "      <th>4</th>\n",
              "      <td>5.0</td>\n",
              "      <td>3.6</td>\n",
              "      <td>1.4</td>\n",
              "      <td>0.2</td>\n",
              "    </tr>\n",
              "  </tbody>\n",
              "</table>\n",
              "</div>\n",
              "      <button class=\"colab-df-convert\" onclick=\"convertToInteractive('df-503a0011-5677-4fcd-a6bb-22bc00a37583')\"\n",
              "              title=\"Convert this dataframe to an interactive table.\"\n",
              "              style=\"display:none;\">\n",
              "        \n",
              "  <svg xmlns=\"http://www.w3.org/2000/svg\" height=\"24px\"viewBox=\"0 0 24 24\"\n",
              "       width=\"24px\">\n",
              "    <path d=\"M0 0h24v24H0V0z\" fill=\"none\"/>\n",
              "    <path d=\"M18.56 5.44l.94 2.06.94-2.06 2.06-.94-2.06-.94-.94-2.06-.94 2.06-2.06.94zm-11 1L8.5 8.5l.94-2.06 2.06-.94-2.06-.94L8.5 2.5l-.94 2.06-2.06.94zm10 10l.94 2.06.94-2.06 2.06-.94-2.06-.94-.94-2.06-.94 2.06-2.06.94z\"/><path d=\"M17.41 7.96l-1.37-1.37c-.4-.4-.92-.59-1.43-.59-.52 0-1.04.2-1.43.59L10.3 9.45l-7.72 7.72c-.78.78-.78 2.05 0 2.83L4 21.41c.39.39.9.59 1.41.59.51 0 1.02-.2 1.41-.59l7.78-7.78 2.81-2.81c.8-.78.8-2.07 0-2.86zM5.41 20L4 18.59l7.72-7.72 1.47 1.35L5.41 20z\"/>\n",
              "  </svg>\n",
              "      </button>\n",
              "      \n",
              "  <style>\n",
              "    .colab-df-container {\n",
              "      display:flex;\n",
              "      flex-wrap:wrap;\n",
              "      gap: 12px;\n",
              "    }\n",
              "\n",
              "    .colab-df-convert {\n",
              "      background-color: #E8F0FE;\n",
              "      border: none;\n",
              "      border-radius: 50%;\n",
              "      cursor: pointer;\n",
              "      display: none;\n",
              "      fill: #1967D2;\n",
              "      height: 32px;\n",
              "      padding: 0 0 0 0;\n",
              "      width: 32px;\n",
              "    }\n",
              "\n",
              "    .colab-df-convert:hover {\n",
              "      background-color: #E2EBFA;\n",
              "      box-shadow: 0px 1px 2px rgba(60, 64, 67, 0.3), 0px 1px 3px 1px rgba(60, 64, 67, 0.15);\n",
              "      fill: #174EA6;\n",
              "    }\n",
              "\n",
              "    [theme=dark] .colab-df-convert {\n",
              "      background-color: #3B4455;\n",
              "      fill: #D2E3FC;\n",
              "    }\n",
              "\n",
              "    [theme=dark] .colab-df-convert:hover {\n",
              "      background-color: #434B5C;\n",
              "      box-shadow: 0px 1px 3px 1px rgba(0, 0, 0, 0.15);\n",
              "      filter: drop-shadow(0px 1px 2px rgba(0, 0, 0, 0.3));\n",
              "      fill: #FFFFFF;\n",
              "    }\n",
              "  </style>\n",
              "\n",
              "      <script>\n",
              "        const buttonEl =\n",
              "          document.querySelector('#df-503a0011-5677-4fcd-a6bb-22bc00a37583 button.colab-df-convert');\n",
              "        buttonEl.style.display =\n",
              "          google.colab.kernel.accessAllowed ? 'block' : 'none';\n",
              "\n",
              "        async function convertToInteractive(key) {\n",
              "          const element = document.querySelector('#df-503a0011-5677-4fcd-a6bb-22bc00a37583');\n",
              "          const dataTable =\n",
              "            await google.colab.kernel.invokeFunction('convertToInteractive',\n",
              "                                                     [key], {});\n",
              "          if (!dataTable) return;\n",
              "\n",
              "          const docLinkHtml = 'Like what you see? Visit the ' +\n",
              "            '<a target=\"_blank\" href=https://colab.research.google.com/notebooks/data_table.ipynb>data table notebook</a>'\n",
              "            + ' to learn more about interactive tables.';\n",
              "          element.innerHTML = '';\n",
              "          dataTable['output_type'] = 'display_data';\n",
              "          await google.colab.output.renderOutput(dataTable, element);\n",
              "          const docLink = document.createElement('div');\n",
              "          docLink.innerHTML = docLinkHtml;\n",
              "          element.appendChild(docLink);\n",
              "        }\n",
              "      </script>\n",
              "    </div>\n",
              "  </div>\n",
              "  "
            ]
          },
          "metadata": {},
          "execution_count": 6
        }
      ]
    },
    {
      "cell_type": "code",
      "source": [
        "sepal_length=iris['data'][: ,0]    #get all the rows from column 0 inside the variable\n",
        "petal_length=iris['data'][: ,2]    #get all the rows from column 2 inside the variable\n"
      ],
      "metadata": {
        "id": "1LutjWR7ahoO"
      },
      "execution_count": 7,
      "outputs": []
    },
    {
      "cell_type": "code",
      "source": [
        "c=iris['target']\n",
        "plt.scatter(sepal_length,petal_length, c=c)    #c=c means class=c\n",
        "plt.xlabel('Sepal Length')\n",
        "plt.ylabel('Petal Length')\n",
        "plt.show()"
      ],
      "metadata": {
        "colab": {
          "base_uri": "https://localhost:8080/",
          "height": 279
        },
        "id": "aX9uE509dB_0",
        "outputId": "50fdb66d-108b-4161-e2e9-2751b84030c0"
      },
      "execution_count": 8,
      "outputs": [
        {
          "output_type": "display_data",
          "data": {
            "text/plain": [
              "<Figure size 432x288 with 1 Axes>"
            ],
            "image/png": "[encoded data removed]"
          },
          "metadata": {
            "needs_background": "light"
          }
        }
      ]
    },
    {
      "cell_type": "code",
      "source": [
        "X=np.column_stack((sepal_length,petal_length))   #merge the 2 differnet arrays into 1 2-d array so that svm can read it ina single run\n",
        "y=iris.target"
      ],
      "metadata": {
        "id": "qKEPoFgtddeW"
      },
      "execution_count": 9,
      "outputs": []
    },
    {
      "cell_type": "code",
      "source": [
        "X_train,X_test,y_train,y_test=train_test_split(X,y,test_size=0.4)     #test size=0.2 means that 20% of data is to be used for training rest 80% for testing"
      ],
      "metadata": {
        "id": "YVEwzdPEiXCt"
      },
      "execution_count": 10,
      "outputs": []
    },
    {
      "cell_type": "code",
      "source": [
        "clf=svm.SVC(kernel='linear',C=1)    #SVC=Support Vector Classification\n",
        "clf.fit(X_train,y_train)"
      ],
      "metadata": {
        "colab": {
          "base_uri": "https://localhost:8080/"
        },
        "id": "0IVqISfYi6QN",
        "outputId": "254b862f-4d32-4338-c41a-798ef51d701e"
      },
      "execution_count": 16,
      "outputs": [
        {
          "output_type": "execute_result",
          "data": {
            "text/plain": [
              "SVC(C=2, kernel='sigmoid')"
            ]
          },
          "metadata": {},
          "execution_count": 16
        }
      ]
    },
    {
      "cell_type": "code",
      "source": [
        "clf.score(X_train,y_train)"
      ],
      "metadata": {
        "colab": {
          "base_uri": "https://localhost:8080/"
        },
        "id": "0TH_w4dEjmu4",
        "outputId": "45d15910-0667-4bee-cf2b-ae38d6f2a134"
      },
      "execution_count": 17,
      "outputs": [
        {
          "output_type": "execute_result",
          "data": {
            "text/plain": [
              "0.37777777777777777"
            ]
          },
          "metadata": {},
          "execution_count": 17
        }
      ]
    },
    {
      "cell_type": "code",
      "source": [
        "clf.score(X_test,y_test)"
      ],
      "metadata": {
        "colab": {
          "base_uri": "https://localhost:8080/"
        },
        "id": "ovlIC8S4lRSP",
        "outputId": "b2a82431-2093-4db1-803f-e5c5a0c844c4"
      },
      "execution_count": 18,
      "outputs": [
        {
          "output_type": "execute_result",
          "data": {
            "text/plain": [
              "0.26666666666666666"
            ]
          },
          "metadata": {},
          "execution_count": 18
        }
      ]
    },
    {
      "cell_type": "code",
      "source": [
        "plot_decision_regions(X=X_train,y=y_train,clf=clf,legend=1)"
      ],
      "metadata": {
        "colab": {
          "base_uri": "https://localhost:8080/",
          "height": 376
        },
        "id": "SmpYx5iZlbi9",
        "outputId": "ca1d10b8-1e36-4c11-9d74-63f67902bab5"
      },
      "execution_count": 19,
      "outputs": [
        {
          "output_type": "stream",
          "name": "stderr",
          "text": [
            "/usr/local/lib/python3.7/dist-packages/mlxtend/plotting/decision_regions.py:242: UserWarning: No contour levels were found within the data range.\n",
            "  antialiased=True)\n",
            "/usr/local/lib/python3.7/dist-packages/mlxtend/plotting/decision_regions.py:244: MatplotlibDeprecationWarning: Passing unsupported keyword arguments to axis() will raise a TypeError in 3.3.\n",
            "  ax.axis(xmin=xx.min(), xmax=xx.max(), y_min=yy.min(), y_max=yy.max())\n"
          ]
        },
        {
          "output_type": "execute_result",
          "data": {
            "text/plain": [
              "<matplotlib.axes._subplots.AxesSubplot at 0x7f5084700e10>"
            ]
          },
          "metadata": {},
          "execution_count": 19
        },
        {
          "output_type": "display_data",
          "data": {
            "text/plain": [
              "<Figure size 432x288 with 1 Axes>"
            ],
            "image/png": "[encoded data removed]"
          },
          "metadata": {
            "needs_background": "light"
          }
        }
      ]
    },
    {
      "cell_type": "code",
      "source": [
        "plot_decision_regions(X=X_test,y=y_test,clf=clf,legend=1)   #classification=clf and legend is on top right"
      ],
      "metadata": {
        "colab": {
          "base_uri": "https://localhost:8080/",
          "height": 376
        },
        "id": "tKaUlxb2j50f",
        "outputId": "cce09525-a8ce-4b39-c10e-61d413dd523b"
      },
      "execution_count": 20,
      "outputs": [
        {
          "output_type": "stream",
          "name": "stderr",
          "text": [
            "/usr/local/lib/python3.7/dist-packages/mlxtend/plotting/decision_regions.py:242: UserWarning: No contour levels were found within the data range.\n",
            "  antialiased=True)\n",
            "/usr/local/lib/python3.7/dist-packages/mlxtend/plotting/decision_regions.py:244: MatplotlibDeprecationWarning: Passing unsupported keyword arguments to axis() will raise a TypeError in 3.3.\n",
            "  ax.axis(xmin=xx.min(), xmax=xx.max(), y_min=yy.min(), y_max=yy.max())\n"
          ]
        },
        {
          "output_type": "execute_result",
          "data": {
            "text/plain": [
              "<matplotlib.axes._subplots.AxesSubplot at 0x7f5084684a50>"
            ]
          },
          "metadata": {},
          "execution_count": 20
        },
        {
          "output_type": "display_data",
          "data": {
            "text/plain": [
              "<Figure size 432x288 with 1 Axes>"
            ],
            "image/png": "[encoded data removed]"
          },
          "metadata": {
            "needs_background": "light"
          }
        }
      ]
    },
    {
      "cell_type": "code",
      "source": [
        ""
      ],
      "metadata": {
        "id": "Y23KPAWOLGHP"
      },
      "execution_count": null,
      "outputs": []
    }
  ]
}